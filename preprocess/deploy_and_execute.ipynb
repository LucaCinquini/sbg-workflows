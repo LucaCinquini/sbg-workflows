{
 "cells": [
  {
   "cell_type": "code",
   "execution_count": 8,
   "id": "9a1f1904-d6e4-49de-8c42-0167d24139f6",
   "metadata": {},
   "outputs": [],
   "source": [
    "import requests\n",
    "import time\n",
    "import json\n",
    "\n",
    "from datetime import datetime\n",
    "from IPython.display import JSON\n",
    "\n",
    "from unity_sds_client.unity import Unity\n",
    "from unity_sds_client.unity_services import UnityServices\n",
    "from unity_sds_client.resources.job_status import JobStatus"
   ]
  },
  {
   "cell_type": "code",
   "execution_count": 3,
   "id": "4130b737-ba69-4d58-ba16-e141225c3192",
   "metadata": {},
   "outputs": [
    {
     "name": "stdin",
     "output_type": "stream",
     "text": [
      "Please enter your Unity username:  gangl\n",
      "Please enter your Unity password:  ········\n"
     ]
    }
   ],
   "source": [
    "unity = Unity()\n",
    "unity.set_venue_id(\"unity-sips-test\")\n",
    "process_service = unity.client(UnityServices.PROCESS_SERVICE)"
   ]
  },
  {
   "cell_type": "code",
   "execution_count": 4,
   "id": "067b6973-ba78-4dd9-bcaf-ea697332ed8a",
   "metadata": {},
   "outputs": [],
   "source": [
    "processes = process_service.get_processes()"
   ]
  },
  {
   "cell_type": "code",
   "execution_count": 17,
   "id": "57f611df-0386-47c9-902d-04ac9f226610",
   "metadata": {},
   "outputs": [
    {
     "name": "stdout",
     "output_type": "stream",
     "text": [
      "Process ID: chirp:develop\n",
      "Process Title: CHIRP Rebinning\n",
      "Process Abstract: chirp\n",
      "Process Version: develop\n",
      "\n",
      "unity_sds_client.resources.Process(\n",
      "    id=\"chirp:develop\",\n",
      "    title=\"CHIRP Rebinning\",\n",
      "    abstract=\"chirp\",\n",
      "    execution_unit=\"1\",\n",
      "    immediate_deployment=true,\n",
      "    job_control_options=['async-execute'],\n",
      "    keywords=\"\",\n",
      "    output_transmission=['reference'],\n",
      "    ows_context_url=\"https://raw.githubusercontent.com/unity-sds/unity-sps-workflows/mike-gangl-patch-1/sounder_sips/chirp/chirp-rebinning-e2e-workflow-wrapper.test.cwl\",\n",
      "    process_version=\"develop\"\n",
      ")\n"
     ]
    }
   ],
   "source": [
    "processes = process_service.get_processes()\n",
    "for process in processes:\n",
    "    print(\"Process ID: {}\".format(process.id))\n",
    "    print(\"Process Title: {}\".format(process.title))\n",
    "    print(\"Process Abstract: {}\".format(process.abstract))\n",
    "    print(\"Process Version: {}\".format(process.process_version))\n",
    "    print(\"\")\n",
    "    print(process)"
   ]
  },
  {
   "cell_type": "code",
   "execution_count": 15,
   "id": "37e68a46-bb1b-48c4-bba5-c56ea978824b",
   "metadata": {},
   "outputs": [
    {
     "data": {
      "text/plain": [
       "{'processDescription': {'process': {'id': 'sbg-preprocess-workflow:1',\n",
       "   'title': 'SBG Preprocess Workflow\\n',\n",
       "   'owsContext': {'offering': {'code': 'http://www.opengis.net/eoc/applicationContext/cwl',\n",
       "     'content': {'href': 'https://raw.githubusercontent.com/unity-sds/sbg-workflows/main/preprocess/sbg-preprocess-workflow.cwl'}}},\n",
       "   'abstract': 'workflow for executing the pre-process workflow via WPS',\n",
       "   'keywords': [],\n",
       "   'inputs': [{'id': 'input_cmr_collection_name',\n",
       "     'title': 'CMR Collection Name',\n",
       "     'formats': [{'mimeType': 'text', 'default': True}]},\n",
       "    {'id': 'input_cmr_search_start_time',\n",
       "     'title': 'CMR Start Search Time',\n",
       "     'formats': [{'mimeType': 'text', 'default': True}]},\n",
       "    {'id': 'input_cmr_search_stop_time',\n",
       "     'title': 'CMR Start Stop Time',\n",
       "     'formats': [{'mimeType': 'text', 'default': True}]},\n",
       "    {'id': 'input_unity_dapa_api',\n",
       "     'title': 'DAPA Endpoint to use',\n",
       "     'formats': [{'mimeType': 'text', 'default': True}]},\n",
       "    {'id': 'input_unity_dapa_client',\n",
       "     'title': 'DAPA Client ID to use',\n",
       "     'formats': [{'mimeType': 'text', 'default': True}]},\n",
       "    {'id': 'input_crid',\n",
       "     'title': 'Product CRID to use',\n",
       "     'formats': [{'mimeType': 'text', 'default': True}]},\n",
       "    {'id': 'output_collection_id',\n",
       "     'title': 'colleciton ID for output files',\n",
       "     'formats': [{'mimeType': 'text', 'default': True}]},\n",
       "    {'id': 'output_data_bucket',\n",
       "     'title': 'Data Bucketfor output files',\n",
       "     'formats': [{'mimeType': 'text', 'default': True}]}],\n",
       "   'outputs': []},\n",
       "  'processVersion': '1.0.0',\n",
       "  'jobControlOptions': ['async-execute'],\n",
       "  'outputTransmission': ['reference']},\n",
       " 'immediateDeployment': True,\n",
       " 'executionUnit': [{'href': 'docker://gangl/sbg-unity-preprocess:84dc8d65'}],\n",
       " 'deploymentProfileName': 'http://www.opengis.net/profiles/eoc/dockerizedApplication'}"
      ]
     },
     "execution_count": 15,
     "metadata": {},
     "output_type": "execute_result"
    }
   ],
   "source": [
    "f = open('workflowDescriptor.json')\n",
    "data = json.load(f)\n",
    "data\n"
   ]
  },
  {
   "cell_type": "code",
   "execution_count": 16,
   "id": "46234338-c86d-4df8-ab4c-bb6745c9e7eb",
   "metadata": {},
   "outputs": [
    {
     "ename": "HTTPError",
     "evalue": "500 Server Error: Internal Server Error for url: https://dxebrgu0bc9w7.cloudfront.net/unity-sips-test/ades-wpst/processes",
     "output_type": "error",
     "traceback": [
      "\u001b[0;31m---------------------------------------------------------------------------\u001b[0m",
      "\u001b[0;31mHTTPError\u001b[0m                                 Traceback (most recent call last)",
      "Cell \u001b[0;32mIn[16], line 1\u001b[0m\n\u001b[0;32m----> 1\u001b[0m \u001b[43mprocess_service\u001b[49m\u001b[38;5;241;43m.\u001b[39;49m\u001b[43mdeploy_process\u001b[49m\u001b[43m(\u001b[49m\u001b[43mdata\u001b[49m\u001b[43m)\u001b[49m\n",
      "File \u001b[0;32m~/.local/lib/python3.11/site-packages/unity_sds_client/services/process_service.py:133\u001b[0m, in \u001b[0;36mProcessService.deploy_process\u001b[0;34m(self, data)\u001b[0m\n\u001b[1;32m    131\u001b[0m url \u001b[38;5;241m=\u001b[39m \u001b[38;5;28mself\u001b[39m\u001b[38;5;241m.\u001b[39mendpoint \u001b[38;5;241m+\u001b[39m \u001b[38;5;124m\"\u001b[39m\u001b[38;5;124mprocesses\u001b[39m\u001b[38;5;124m\"\u001b[39m\n\u001b[1;32m    132\u001b[0m response \u001b[38;5;241m=\u001b[39m requests\u001b[38;5;241m.\u001b[39mpost(url, headers\u001b[38;5;241m=\u001b[39mheaders, json\u001b[38;5;241m=\u001b[39mjson\u001b[38;5;241m.\u001b[39mdumps(data))\n\u001b[0;32m--> 133\u001b[0m \u001b[43mresponse\u001b[49m\u001b[38;5;241;43m.\u001b[39;49m\u001b[43mraise_for_status\u001b[49m\u001b[43m(\u001b[49m\u001b[43m)\u001b[49m\n\u001b[1;32m    135\u001b[0m \u001b[38;5;28;01mreturn\u001b[39;00m response\n",
      "File \u001b[0;32m/opt/conda/lib/python3.11/site-packages/requests/models.py:1021\u001b[0m, in \u001b[0;36mResponse.raise_for_status\u001b[0;34m(self)\u001b[0m\n\u001b[1;32m   1016\u001b[0m     http_error_msg \u001b[38;5;241m=\u001b[39m (\n\u001b[1;32m   1017\u001b[0m         \u001b[38;5;124mf\u001b[39m\u001b[38;5;124m\"\u001b[39m\u001b[38;5;132;01m{\u001b[39;00m\u001b[38;5;28mself\u001b[39m\u001b[38;5;241m.\u001b[39mstatus_code\u001b[38;5;132;01m}\u001b[39;00m\u001b[38;5;124m Server Error: \u001b[39m\u001b[38;5;132;01m{\u001b[39;00mreason\u001b[38;5;132;01m}\u001b[39;00m\u001b[38;5;124m for url: \u001b[39m\u001b[38;5;132;01m{\u001b[39;00m\u001b[38;5;28mself\u001b[39m\u001b[38;5;241m.\u001b[39murl\u001b[38;5;132;01m}\u001b[39;00m\u001b[38;5;124m\"\u001b[39m\n\u001b[1;32m   1018\u001b[0m     )\n\u001b[1;32m   1020\u001b[0m \u001b[38;5;28;01mif\u001b[39;00m http_error_msg:\n\u001b[0;32m-> 1021\u001b[0m     \u001b[38;5;28;01mraise\u001b[39;00m HTTPError(http_error_msg, response\u001b[38;5;241m=\u001b[39m\u001b[38;5;28mself\u001b[39m)\n",
      "\u001b[0;31mHTTPError\u001b[0m: 500 Server Error: Internal Server Error for url: https://dxebrgu0bc9w7.cloudfront.net/unity-sips-test/ades-wpst/processes"
     ]
    }
   ],
   "source": [
    "process_service.deploy_process(data)"
   ]
  },
  {
   "cell_type": "code",
   "execution_count": null,
   "id": "db761c03-dd6d-45b6-b287-f7a940bc65ff",
   "metadata": {},
   "outputs": [],
   "source": []
  }
 ],
 "metadata": {
  "kernelspec": {
   "display_name": "Python [conda env:root] *",
   "language": "python",
   "name": "conda-root-py"
  },
  "language_info": {
   "codemirror_mode": {
    "name": "ipython",
    "version": 3
   },
   "file_extension": ".py",
   "mimetype": "text/x-python",
   "name": "python",
   "nbconvert_exporter": "python",
   "pygments_lexer": "ipython3",
   "version": "3.11.6"
  }
 },
 "nbformat": 4,
 "nbformat_minor": 5
}
