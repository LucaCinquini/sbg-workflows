{
 "cells": [
  {
   "cell_type": "code",
   "execution_count": 1,
   "id": "9a1f1904-d6e4-49de-8c42-0167d24139f6",
   "metadata": {},
   "outputs": [],
   "source": [
    "import requests\n",
    "import time\n",
    "import json\n",
    "\n",
    "from datetime import datetime\n",
    "from IPython.display import JSON\n",
    "\n",
    "from unity_sds_client.unity import Unity\n",
    "from unity_sds_client.unity_services import UnityServices\n",
    "from unity_sds_client.resources.job_status import JobStatus"
   ]
  },
  {
   "cell_type": "code",
   "execution_count": 2,
   "id": "4130b737-ba69-4d58-ba16-e141225c3192",
   "metadata": {},
   "outputs": [
    {
     "name": "stdin",
     "output_type": "stream",
     "text": [
      "Please enter your Unity username:  gangl\n",
      "Please enter your Unity password:  ········\n"
     ]
    }
   ],
   "source": [
    "unity = Unity()\n",
    "unity.set_venue_id(\"unity-sips-test\")\n",
    "process_service = unity.client(UnityServices.PROCESS_SERVICE)"
   ]
  },
  {
   "cell_type": "code",
   "execution_count": 3,
   "id": "57f611df-0386-47c9-902d-04ac9f226610",
   "metadata": {},
   "outputs": [
    {
     "name": "stdout",
     "output_type": "stream",
     "text": [
      "Process ID: chirp:develop\n",
      "Process Title: CHIRP Rebinning\n",
      "Process Abstract: chirp\n",
      "Process Version: develop\n",
      "\n",
      "unity_sds_client.resources.Process(\n",
      "    id=\"chirp:develop\",\n",
      "    title=\"CHIRP Rebinning\",\n",
      "    abstract=\"chirp\",\n",
      "    execution_unit=\"1\",\n",
      "    immediate_deployment=true,\n",
      "    job_control_options=['async-execute'],\n",
      "    keywords=\"\",\n",
      "    output_transmission=['reference'],\n",
      "    ows_context_url=\"https://raw.githubusercontent.com/unity-sds/unity-sps-workflows/mike-gangl-patch-1/sounder_sips/chirp/chirp-rebinning-e2e-workflow-wrapper.test.cwl\",\n",
      "    process_version=\"develop\"\n",
      ")\n",
      "Process ID: sbg-preprocess-workflow:1.0.0\n",
      "Process Title: SBG Preprocess Workflow\n",
      "Process Abstract: workflow for executing the pre-process workflow via WPS\n",
      "Process Version: 1.0.0\n",
      "\n",
      "unity_sds_client.resources.Process(\n",
      "    id=\"sbg-preprocess-workflow:1.0.0\",\n",
      "    title=\"SBG Preprocess Workflow\",\n",
      "    abstract=\"workflow for executing the pre-process workflow via WPS\",\n",
      "    execution_unit=\"1\",\n",
      "    immediate_deployment=true,\n",
      "    job_control_options=['async-execute'],\n",
      "    keywords=\"\",\n",
      "    output_transmission=['reference'],\n",
      "    ows_context_url=\"https://raw.githubusercontent.com/unity-sds/sbg-workflows/main/preprocess/sbg-preprocess-workflow.cwl\",\n",
      "    process_version=\"1.0.0\"\n",
      ")\n"
     ]
    }
   ],
   "source": [
    "processes = process_service.get_processes()\n",
    "for process in processes:\n",
    "    print(\"Process ID: {}\".format(process.id))\n",
    "    print(\"Process Title: {}\".format(process.title))\n",
    "    print(\"Process Abstract: {}\".format(process.abstract))\n",
    "    print(\"Process Version: {}\".format(process.process_version))\n",
    "    print(\"\")\n",
    "    print(process)"
   ]
  },
  {
   "cell_type": "code",
   "execution_count": 5,
   "id": "37e68a46-bb1b-48c4-bba5-c56ea978824b",
   "metadata": {},
   "outputs": [
    {
     "data": {
      "text/plain": [
       "{'processDescription': {'process': {'id': 'sbg-preprocess-workflow',\n",
       "   'title': 'SBG Preprocess Workflow',\n",
       "   'owsContext': {'offering': {'code': 'http://www.opengis.net/eoc/applicationContext/cwl',\n",
       "     'content': {'href': 'https://raw.githubusercontent.com/unity-sds/sbg-workflows/main/preprocess/sbg-preprocess-workflow.cwl'}}},\n",
       "   'abstract': 'workflow for executing the pre-process workflow via WPS',\n",
       "   'keywords': [],\n",
       "   'inputs': [{'id': 'input_cmr_collection_name',\n",
       "     'title': 'CMR Collection Name',\n",
       "     'formats': [{'mimeType': 'text', 'default': True}]},\n",
       "    {'id': 'input_cmr_search_start_time',\n",
       "     'title': 'CMR Start Search Time',\n",
       "     'formats': [{'mimeType': 'text', 'default': True}]},\n",
       "    {'id': 'input_cmr_search_stop_time',\n",
       "     'title': 'CMR Start Stop Time',\n",
       "     'formats': [{'mimeType': 'text', 'default': True}]},\n",
       "    {'id': 'input_unity_dapa_api',\n",
       "     'title': 'DAPA Endpoint to use',\n",
       "     'formats': [{'mimeType': 'text', 'default': True}]},\n",
       "    {'id': 'input_unity_dapa_client',\n",
       "     'title': 'DAPA Client ID to use',\n",
       "     'formats': [{'mimeType': 'text', 'default': True}]},\n",
       "    {'id': 'input_crid',\n",
       "     'title': 'Product CRID to use',\n",
       "     'formats': [{'mimeType': 'text', 'default': True}]},\n",
       "    {'id': 'output_collection_id',\n",
       "     'title': 'colleciton ID for output files',\n",
       "     'formats': [{'mimeType': 'text', 'default': True}]},\n",
       "    {'id': 'output_data_bucket',\n",
       "     'title': 'Data Bucketfor output files',\n",
       "     'formats': [{'mimeType': 'text', 'default': True}]}],\n",
       "   'outputs': []},\n",
       "  'processVersion': '1.0.0',\n",
       "  'jobControlOptions': ['async-execute'],\n",
       "  'outputTransmission': ['reference']},\n",
       " 'immediateDeployment': True,\n",
       " 'executionUnit': [{'href': 'docker://gangl/sbg-unity-preprocess:84dc8d65'}],\n",
       " 'deploymentProfileName': 'http://www.opengis.net/profiles/eoc/dockerizedApplication'}"
      ]
     },
     "execution_count": 5,
     "metadata": {},
     "output_type": "execute_result"
    }
   ],
   "source": [
    "f = open('workflowDescriptor.json')\n",
    "data = json.load(f)\n",
    "data\n"
   ]
  },
  {
   "cell_type": "code",
   "execution_count": 6,
   "id": "46234338-c86d-4df8-ab4c-bb6745c9e7eb",
   "metadata": {},
   "outputs": [
    {
     "data": {
      "text/plain": [
       "<Response [201]>"
      ]
     },
     "execution_count": 6,
     "metadata": {},
     "output_type": "execute_result"
    }
   ],
   "source": [
    "process_service.deploy_process(data)"
   ]
  },
  {
   "cell_type": "code",
   "execution_count": 4,
   "id": "db761c03-dd6d-45b6-b287-f7a940bc65ff",
   "metadata": {},
   "outputs": [
    {
     "name": "stdout",
     "output_type": "stream",
     "text": [
      "unity_sds_client.resources.Job(\n",
      "    id=\"9eaab492-1c1c-4d34-a5d8-319f67cda64e\",\n",
      "    status=\"\",\n",
      "    inputs=None\n",
      ")\n",
      "\n",
      "Job Submission Successful!\n",
      "JOB ID: 9eaab492-1c1c-4d34-a5d8-319f67cda64e\n",
      "\n"
     ]
    }
   ],
   "source": [
    "data = {\n",
    "  \"mode\": \"async\",\n",
    "  \"response\": \"document\",\n",
    "  \"inputs\": [\n",
    "    {\n",
    "      \"id\": \"input_cmr_collection_name\",\n",
    "      \"data\": \"C2408009906-LPCLOUD\"\n",
    "    },\n",
    "    {\n",
    "      \"id\": \"input_cmr_search_start_time\",\n",
    "      \"data\": \"2024-01-03T13:19:36.000Z\"\n",
    "    },\n",
    "    {\n",
    "      \"id\": \"input_cmr_search_stop_time\",\n",
    "      \"data\": \"2024-01-03T13:19:36.000Z\"\n",
    "    },\n",
    "    {\n",
    "      \"id\": \"input_unity_dapa_api\",\n",
    "      \"data\": \"https://dxebrgu0bc9w7.cloudfront.net/\"\n",
    "    },\n",
    "    {\n",
    "      \"id\": \"input_unity_dapa_client\",\n",
    "      \"data\": \"71894molftjtie4dvvkbjeard0\"\n",
    "    },\n",
    "    {\n",
    "      \"id\": \"input_crid\",\n",
    "      \"data\": \"001\"\n",
    "    },\n",
    "    {\n",
    "      \"id\": \"output_collection_id\",\n",
    "      \"data\": \" urn:nasa:unity:ssips:TEST1:CHRP_16_DAY_REBIN___1\"\n",
    "    },\n",
    "    {\n",
    "      \"id\": \"output_data_bucket\",\n",
    "      \"data\": \"ssips-test-ds-storage-reproc\"\n",
    "    }\n",
    "  ],\n",
    "  \"outputs\": [\n",
    "    {\n",
    "      \"id\": \"output\",\n",
    "      \"transmissionMode\": \"reference\"\n",
    "    }\n",
    "  ]\n",
    "}\n",
    "\n",
    "try:\n",
    "    # unity = Unity()\n",
    "    # unity.set_venue_id(\"unity-sips-test\")\n",
    "    #process_service = unity.client(UnityServices.PROCESS_SERVICE)\n",
    "    my_process = process_service.get_process('sbg-preprocess-workflow:1.0.0')\n",
    "    # Store Job ID to use in future steps\n",
    "    job = my_process.execute(data)\n",
    "    print(job)\n",
    "\n",
    "    # If the job submission is successful, print a success message along with the returned JOB-ID\n",
    "    print(\"\\nJob Submission Successful!\\nJOB ID: {}\\n\".format(job.id))\n",
    "\n",
    "except requests.exceptions.HTTPError as e:\n",
    "    # An error has occurred, print the error message that was generated\n",
    "    print(e.reason)"
   ]
  },
  {
   "cell_type": "code",
   "execution_count": 5,
   "id": "57383fda-688c-4212-9c3f-ffcd82487783",
   "metadata": {},
   "outputs": [
    {
     "name": "stdout",
     "output_type": "stream",
     "text": [
      "\n",
      "Status for job \"9eaab492-1c1c-4d34-a5d8-319f67cda64e\" (16:11:42): failed\n",
      "\n"
     ]
    }
   ],
   "source": [
    "try:\n",
    "\n",
    "    job_status = job.get_status()\n",
    "    \n",
    "    while job_status == JobStatus.RUNNING:\n",
    "        print(\"Status for job \\\"{}\\\" ({}): {}\".format(job.id, datetime.now().strftime(\"%H:%M:%S\"), job_status.value))\n",
    "        time.sleep(5)\n",
    "        job_status = job.get_status()\n",
    "    \n",
    "    # Print the job status\n",
    "    print(\"\\nStatus for job \\\"{}\\\" ({}): {}\\n\".format(job.id, datetime.now().strftime(\"%H:%M:%S\"),job_status.value))\n",
    "    \n",
    "except requests.exceptions.HTTPError as e:\n",
    "    # An error has occurred, print the error message that was generated\n",
    "    print(e.reason)"
   ]
  },
  {
   "cell_type": "code",
   "execution_count": null,
   "id": "4a6926d4-847f-45b7-bb4d-ce8402dabbb1",
   "metadata": {},
   "outputs": [],
   "source": []
  }
 ],
 "metadata": {
  "kernelspec": {
   "display_name": "Python [conda env:root] *",
   "language": "python",
   "name": "conda-root-py"
  },
  "language_info": {
   "codemirror_mode": {
    "name": "ipython",
    "version": 3
   },
   "file_extension": ".py",
   "mimetype": "text/x-python",
   "name": "python",
   "nbconvert_exporter": "python",
   "pygments_lexer": "ipython3",
   "version": "3.11.6"
  }
 },
 "nbformat": 4,
 "nbformat_minor": 5
}
